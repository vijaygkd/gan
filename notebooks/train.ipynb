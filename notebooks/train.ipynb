{
 "cells": [
  {
   "cell_type": "code",
   "execution_count": 307,
   "id": "e79ee5ae-1297-4df6-9e12-d000631b7700",
   "metadata": {},
   "outputs": [],
   "source": [
    "import numpy as np\n",
    "from matplotlib import pyplot as plt\n",
    "\n",
    "import tensorflow as tf\n",
    "from tensorflow.keras.optimizers import Adam\n",
    "from tensorflow.keras.losses import BinaryCrossentropy\n",
    "from keras.utils.vis_utils import plot_model\n"
   ]
  },
  {
   "cell_type": "code",
   "execution_count": 280,
   "id": "26b488a4-a1d2-46f5-b4f4-c575c448ceb3",
   "metadata": {},
   "outputs": [],
   "source": [
    "from src.keras.model import GAN, GAN_CNN"
   ]
  },
  {
   "cell_type": "code",
   "execution_count": 14,
   "id": "194ea5af-d1fc-4446-8fbc-58ac191908df",
   "metadata": {},
   "outputs": [],
   "source": [
    "#%load_ext autoreload\n",
    "%autoreload 2"
   ]
  },
  {
   "cell_type": "code",
   "execution_count": 72,
   "id": "e9f1eb22-b425-4f96-a6c8-8a20c0f5a185",
   "metadata": {},
   "outputs": [],
   "source": [
    "def plot_mnist_data(images):\n",
    "    for i in range(len(images)):  \n",
    "        plt.subplot(330 + 1 + i)\n",
    "        plt.imshow(images[i], cmap=plt.get_cmap('gray'))\n",
    "    plt.show()"
   ]
  },
  {
   "cell_type": "markdown",
   "id": "a87e17c4-b88f-483a-9f4e-34c752063cc8",
   "metadata": {
    "tags": []
   },
   "source": [
    "## Model"
   ]
  },
  {
   "cell_type": "code",
   "execution_count": 312,
   "id": "6ddd07d2-8415-41e9-8d78-11f0ea2fe919",
   "metadata": {},
   "outputs": [
    {
     "name": "stdout",
     "output_type": "stream",
     "text": [
      "Hello 3\n",
      "Hello cnn\n"
     ]
    }
   ],
   "source": [
    "gan_model = GAN_CNN()"
   ]
  },
  {
   "cell_type": "code",
   "execution_count": 313,
   "id": "f3458c9b-27aa-4887-b397-d8f1a1629754",
   "metadata": {},
   "outputs": [],
   "source": [
    "gan_model.compile(\n",
    "    d_optimizer=Adam(learning_rate=3e-4),\n",
    "    g_optimizer=Adam(learning_rate=3e-4),\n",
    "    loss_fn=BinaryCrossentropy(),\n",
    ")"
   ]
  },
  {
   "cell_type": "code",
   "execution_count": 314,
   "id": "6e28206d-e3da-4390-88cb-c63d05352abb",
   "metadata": {},
   "outputs": [
    {
     "name": "stdout",
     "output_type": "stream",
     "text": [
      "Model: \"generator\"\n",
      "_________________________________________________________________\n",
      " Layer (type)                Output Shape              Param #   \n",
      "=================================================================\n",
      " dense_126 (Dense)           (None, 6272)              809088    \n",
      "                                                                 \n",
      " leaky_re_lu_75 (LeakyReLU)  (None, 6272)              0         \n",
      "                                                                 \n",
      " reshape_15 (Reshape)        (None, 7, 7, 128)         0         \n",
      "                                                                 \n",
      " conv2d_transpose_30 (Conv2D  (None, 14, 14, 128)      262272    \n",
      " Transpose)                                                      \n",
      "                                                                 \n",
      " leaky_re_lu_76 (LeakyReLU)  (None, 14, 14, 128)       0         \n",
      "                                                                 \n",
      " conv2d_transpose_31 (Conv2D  (None, 28, 28, 128)      262272    \n",
      " Transpose)                                                      \n",
      "                                                                 \n",
      " leaky_re_lu_77 (LeakyReLU)  (None, 28, 28, 128)       0         \n",
      "                                                                 \n",
      " conv2d_45 (Conv2D)          (None, 28, 28, 1)         6273      \n",
      "                                                                 \n",
      "=================================================================\n",
      "Total params: 1,339,905\n",
      "Trainable params: 1,339,905\n",
      "Non-trainable params: 0\n",
      "_________________________________________________________________\n"
     ]
    }
   ],
   "source": [
    "gan_model.generator.summary()"
   ]
  },
  {
   "cell_type": "code",
   "execution_count": 315,
   "id": "fe9c96fb-3b52-4672-b987-73c35580d34b",
   "metadata": {},
   "outputs": [],
   "source": [
    "noise = gan_model.sample_random_noise(9)"
   ]
  },
  {
   "cell_type": "code",
   "execution_count": 323,
   "id": "e363717c-dbb6-4e0c-91a5-09058a32ea9c",
   "metadata": {},
   "outputs": [
    {
     "ename": "ValueError",
     "evalue": "cannot reshape array of size 1152 into shape (9,28,28)",
     "output_type": "error",
     "traceback": [
      "\u001b[0;31m---------------------------------------------------------------------------\u001b[0m",
      "\u001b[0;31mValueError\u001b[0m                                Traceback (most recent call last)",
      "Cell \u001b[0;32mIn [323], line 1\u001b[0m\n\u001b[0;32m----> 1\u001b[0m image_noise \u001b[38;5;241m=\u001b[39m \u001b[43mnoise\u001b[49m\u001b[38;5;241;43m.\u001b[39;49m\u001b[43mnumpy\u001b[49m\u001b[43m(\u001b[49m\u001b[43m)\u001b[49m\u001b[38;5;241;43m.\u001b[39;49m\u001b[43mreshape\u001b[49m\u001b[43m(\u001b[49m\u001b[38;5;241;43m9\u001b[39;49m\u001b[43m,\u001b[49m\u001b[43m \u001b[49m\u001b[38;5;241;43m28\u001b[39;49m\u001b[43m,\u001b[49m\u001b[43m \u001b[49m\u001b[38;5;241;43m28\u001b[39;49m\u001b[43m)\u001b[49m\n\u001b[1;32m      2\u001b[0m image_noise \u001b[38;5;241m=\u001b[39m image_noise\n\u001b[1;32m      3\u001b[0m plot_mnist_data(image_noise)\n",
      "\u001b[0;31mValueError\u001b[0m: cannot reshape array of size 1152 into shape (9,28,28)"
     ]
    }
   ],
   "source": [
    "image_noise = noise.numpy().reshape(9, 28, 28)\n",
    "image_noise = image_noise\n",
    "plot_mnist_data(image_noise)"
   ]
  },
  {
   "cell_type": "code",
   "execution_count": 324,
   "id": "e94e8332-42e4-4fbe-bd4a-440f380aa835",
   "metadata": {},
   "outputs": [
    {
     "data": {
      "text/plain": [
       "(9, 128)"
      ]
     },
     "execution_count": 324,
     "metadata": {},
     "output_type": "execute_result"
    }
   ],
   "source": [
    "image_noise.shape"
   ]
  },
  {
   "cell_type": "code",
   "execution_count": 325,
   "id": "664db539-7502-4869-8182-bc1629639936",
   "metadata": {},
   "outputs": [
    {
     "data": {
      "image/png": "[encoded data removed]",
      "text/plain": [
       "<Figure size 640x480 with 9 Axes>"
      ]
     },
     "metadata": {},
     "output_type": "display_data"
    }
   ],
   "source": [
    "gan_g_output = gan_model.generator(noise)\n",
    "gan_g_output = gan_g_output.numpy()#.reshape(9, 28, 28)\n",
    "plot_mnist_data(gan_g_output)"
   ]
  },
  {
   "cell_type": "code",
   "execution_count": 321,
   "id": "bf2c1129-bd1c-40bf-a0a7-188a3ef9d00f",
   "metadata": {},
   "outputs": [
    {
     "data": {
      "text/plain": [
       "(9, 28, 28, 1)"
      ]
     },
     "execution_count": 321,
     "metadata": {},
     "output_type": "execute_result"
    }
   ],
   "source": [
    "gan_g_output.shape"
   ]
  },
  {
   "cell_type": "code",
   "execution_count": 326,
   "id": "2ded7283-bc17-4d4e-abe3-f41545fef14d",
   "metadata": {},
   "outputs": [
    {
     "data": {
      "text/plain": [
       "<tf.Tensor: shape=(9, 1), dtype=float32, numpy=\n",
       "array([[-0.05997276],\n",
       "       [-0.06104072],\n",
       "       [-0.06011989],\n",
       "       [-0.05986188],\n",
       "       [-0.06007076],\n",
       "       [-0.06050023],\n",
       "       [-0.05977833],\n",
       "       [-0.05998752],\n",
       "       [-0.06023204]], dtype=float32)>"
      ]
     },
     "execution_count": 326,
     "metadata": {},
     "output_type": "execute_result"
    }
   ],
   "source": [
    "gan_model.discriminator(gan_g_output)"
   ]
  },
  {
   "cell_type": "code",
   "execution_count": null,
   "id": "ba8ca7bc-8867-41e6-a0b1-fa49fedb8a3a",
   "metadata": {},
   "outputs": [],
   "source": []
  },
  {
   "cell_type": "markdown",
   "id": "c4a3961a-2fa7-41f6-b5a7-4f29801b0923",
   "metadata": {},
   "source": [
    "## CNN Model"
   ]
  },
  {
   "cell_type": "code",
   "execution_count": 364,
   "id": "727f3c77-d1dc-48ef-ac22-885eb183c174",
   "metadata": {},
   "outputs": [
    {
     "name": "stdout",
     "output_type": "stream",
     "text": [
      "Hello 3\n",
      "Hello cnn\n"
     ]
    }
   ],
   "source": [
    "gan_model = GAN_CNN()"
   ]
  },
  {
   "cell_type": "code",
   "execution_count": 365,
   "id": "a6d24a02-1ae2-42fd-8330-3b0bfe760ba0",
   "metadata": {},
   "outputs": [
    {
     "name": "stdout",
     "output_type": "stream",
     "text": [
      "Model: \"generator\"\n",
      "_________________________________________________________________\n",
      " Layer (type)                Output Shape              Param #   \n",
      "=================================================================\n",
      " dense_154 (Dense)           (None, 6272)              809088    \n",
      "                                                                 \n",
      " leaky_re_lu_145 (LeakyReLU)  (None, 6272)             0         \n",
      "                                                                 \n",
      " reshape_29 (Reshape)        (None, 7, 7, 128)         0         \n",
      "                                                                 \n",
      " conv2d_transpose_58 (Conv2D  (None, 14, 14, 128)      262272    \n",
      " Transpose)                                                      \n",
      "                                                                 \n",
      " leaky_re_lu_146 (LeakyReLU)  (None, 14, 14, 128)      0         \n",
      "                                                                 \n",
      " conv2d_transpose_59 (Conv2D  (None, 28, 28, 128)      262272    \n",
      " Transpose)                                                      \n",
      "                                                                 \n",
      " leaky_re_lu_147 (LeakyReLU)  (None, 28, 28, 128)      0         \n",
      "                                                                 \n",
      " conv2d_87 (Conv2D)          (None, 28, 28, 1)         6273      \n",
      "                                                                 \n",
      "=================================================================\n",
      "Total params: 1,339,905\n",
      "Trainable params: 1,339,905\n",
      "Non-trainable params: 0\n",
      "_________________________________________________________________\n"
     ]
    }
   ],
   "source": [
    "gan_model.generator.summary()"
   ]
  },
  {
   "cell_type": "code",
   "execution_count": 366,
   "id": "7a1f081d-efd7-44bb-b6b0-3bf86e92f893",
   "metadata": {},
   "outputs": [
    {
     "name": "stdout",
     "output_type": "stream",
     "text": [
      "Model: \"discriminator\"\n",
      "_________________________________________________________________\n",
      " Layer (type)                Output Shape              Param #   \n",
      "=================================================================\n",
      " conv2d_88 (Conv2D)          (None, 14, 14, 64)        640       \n",
      "                                                                 \n",
      " leaky_re_lu_148 (LeakyReLU)  (None, 14, 14, 64)       0         \n",
      "                                                                 \n",
      " conv2d_89 (Conv2D)          (None, 7, 7, 128)         73856     \n",
      "                                                                 \n",
      " leaky_re_lu_149 (LeakyReLU)  (None, 7, 7, 128)        0         \n",
      "                                                                 \n",
      " global_max_pooling2d_29 (Gl  (None, 128)              0         \n",
      " obalMaxPooling2D)                                               \n",
      "                                                                 \n",
      " dense_155 (Dense)           (None, 1)                 129       \n",
      "                                                                 \n",
      "=================================================================\n",
      "Total params: 74,625\n",
      "Trainable params: 74,625\n",
      "Non-trainable params: 0\n",
      "_________________________________________________________________\n"
     ]
    }
   ],
   "source": [
    "gan_model.discriminator.summary()"
   ]
  },
  {
   "cell_type": "code",
   "execution_count": null,
   "id": "9ec0f1f1-cc63-4617-8e15-4a1b9751e73b",
   "metadata": {},
   "outputs": [],
   "source": []
  },
  {
   "cell_type": "code",
   "execution_count": null,
   "id": "8d8af256-23d1-4229-b1ec-c85edc2169d8",
   "metadata": {},
   "outputs": [],
   "source": []
  },
  {
   "cell_type": "code",
   "execution_count": null,
   "id": "6d6015ff-6968-404e-9951-1892db7b3b74",
   "metadata": {},
   "outputs": [],
   "source": []
  },
  {
   "cell_type": "markdown",
   "id": "c05b4431-a39c-4148-ba7b-613182267048",
   "metadata": {
    "tags": []
   },
   "source": [
    "## Prep Data"
   ]
  },
  {
   "cell_type": "code",
   "execution_count": 330,
   "id": "f407a49d-6c06-49fb-a8eb-d8fcd6c9f468",
   "metadata": {},
   "outputs": [
    {
     "name": "stdout",
     "output_type": "stream",
     "text": [
      "MNIST Train Set: (60000, 28, 28)\n",
      "MNIST Test Set: (10000, 28, 28)\n"
     ]
    }
   ],
   "source": [
    "(x_train, y_train), (x_test, y_test) = tf.keras.datasets.mnist.load_data(\n",
    "    path='mnist.npz'\n",
    ")\n",
    "\n",
    "print(f\"MNIST Train Set: {x_train.shape}\")\n",
    "print(f\"MNIST Test Set: {x_test.shape}\")"
   ]
  },
  {
   "cell_type": "code",
   "execution_count": 347,
   "id": "57e8ce78-64c8-4eab-a850-5d6c545301a4",
   "metadata": {},
   "outputs": [],
   "source": [
    "# combine train / test data\n",
    "all_digits = np.concatenate([x_train, x_test])\n",
    "all_labels = np.concatenate([y_train, y_test])\n",
    "\n",
    "input_shape = (-1, 28, 28, 1)\n",
    "all_digits = all_digits.astype(\"float32\") / 255.0  \n",
    "all_digits = np.reshape(all_digits, input_shape)"
   ]
  },
  {
   "cell_type": "code",
   "execution_count": 348,
   "id": "7375c6e3-a057-4305-bbc2-da6497615740",
   "metadata": {},
   "outputs": [],
   "source": [
    "# tensorflow dataset\n",
    "batch_size = 64\n",
    "dataset = tf.data.Dataset.from_tensor_slices(all_digits)\n",
    "dataset = dataset.shuffle(buffer_size=1024).batch(batch_size)"
   ]
  },
  {
   "cell_type": "code",
   "execution_count": 351,
   "id": "903c5b20-33e2-48fa-a808-8e3066d437e7",
   "metadata": {},
   "outputs": [
    {
     "data": {
      "image/png": "[encoded data removed]",
      "text/plain": [
       "<Figure size 640x480 with 9 Axes>"
      ]
     },
     "metadata": {},
     "output_type": "display_data"
    }
   ],
   "source": [
    "plot_mnist_data(all_digits[0:9])"
   ]
  },
  {
   "cell_type": "markdown",
   "id": "7c01ecc6-9271-4947-8590-9205e7d228fe",
   "metadata": {},
   "source": [
    "## Train GAN"
   ]
  },
  {
   "cell_type": "code",
   "execution_count": 378,
   "id": "796f0d84-7ede-4434-a6cb-656630d29357",
   "metadata": {},
   "outputs": [
    {
     "name": "stdout",
     "output_type": "stream",
     "text": [
      "Hello 3\n",
      "Hello cnn\n"
     ]
    }
   ],
   "source": [
    "gan_model = GAN_CNN()\n",
    "gan_model.compile(\n",
    "    d_optimizer=Adam(learning_rate=3e-4),\n",
    "    g_optimizer=Adam(learning_rate=3e-4),\n",
    "    loss_fn=BinaryCrossentropy(),\n",
    ")"
   ]
  },
  {
   "cell_type": "code",
   "execution_count": 379,
   "id": "366eba54-6048-4278-a899-2ca06f6294b4",
   "metadata": {},
   "outputs": [
    {
     "name": "stdout",
     "output_type": "stream",
     "text": [
      "2022-09-14 22:29:28.515629\n"
     ]
    }
   ],
   "source": [
    "from datetime import datetime\n",
    "print(datetime.now())"
   ]
  },
  {
   "cell_type": "code",
   "execution_count": 380,
   "id": "5408037a-b8b1-48c2-ad98-1c6174073597",
   "metadata": {},
   "outputs": [
    {
     "name": "stdout",
     "output_type": "stream",
     "text": [
      "Epoch 1/20\n",
      "1094/1094 [==============================] - 719s 657ms/step - d_loss: 0.5206 - g_loss: 1.1256\n",
      "Epoch 2/20\n",
      "1094/1094 [==============================] - 720s 658ms/step - d_loss: 0.1354 - g_loss: 4.1189\n",
      "Epoch 3/20\n",
      "1094/1094 [==============================] - 735s 672ms/step - d_loss: 0.0521 - g_loss: 6.7016\n",
      "Epoch 4/20\n",
      "1094/1094 [==============================] - 736s 673ms/step - d_loss: 0.1041 - g_loss: 3.1665\n",
      "Epoch 5/20\n",
      "1094/1094 [==============================] - 731s 668ms/step - d_loss: 0.4937 - g_loss: 1.5000\n",
      "Epoch 6/20\n",
      "1094/1094 [==============================] - 713s 652ms/step - d_loss: 0.5857 - g_loss: 1.0013\n",
      "Epoch 7/20\n",
      "1094/1094 [==============================] - 718s 657ms/step - d_loss: 0.5762 - g_loss: 1.0052\n",
      "Epoch 8/20\n",
      "1094/1094 [==============================] - 734s 671ms/step - d_loss: 0.5645 - g_loss: 1.0588\n",
      "Epoch 9/20\n",
      "1094/1094 [==============================] - 737s 673ms/step - d_loss: 0.5722 - g_loss: 1.0251\n",
      "Epoch 10/20\n",
      "1094/1094 [==============================] - 725s 663ms/step - d_loss: 0.5738 - g_loss: 0.9907\n",
      "Epoch 11/20\n",
      "1094/1094 [==============================] - 720s 659ms/step - d_loss: 0.5721 - g_loss: 1.0012\n",
      "Epoch 12/20\n",
      "1094/1094 [==============================] - 725s 663ms/step - d_loss: 0.5716 - g_loss: 1.0068\n",
      "Epoch 13/20\n",
      "1094/1094 [==============================] - 731s 669ms/step - d_loss: 0.5673 - g_loss: 1.0274\n",
      "Epoch 14/20\n",
      "1094/1094 [==============================] - 733s 670ms/step - d_loss: 0.5656 - g_loss: 1.0184\n",
      "Epoch 15/20\n",
      "1094/1094 [==============================] - 728s 665ms/step - d_loss: 0.5628 - g_loss: 1.0444\n",
      "Epoch 16/20\n",
      "1094/1094 [==============================] - 729s 667ms/step - d_loss: 0.5625 - g_loss: 1.0355\n",
      "Epoch 17/20\n",
      "1094/1094 [==============================] - 727s 664ms/step - d_loss: 0.5686 - g_loss: 1.0205\n",
      "Epoch 18/20\n",
      "1094/1094 [==============================] - 736s 673ms/step - d_loss: 0.5714 - g_loss: 1.0272\n",
      "Epoch 19/20\n",
      "1094/1094 [==============================] - 731s 669ms/step - d_loss: 0.5788 - g_loss: 0.9786\n",
      "Epoch 20/20\n",
      "1094/1094 [==============================] - 726s 664ms/step - d_loss: 0.5832 - g_loss: 0.9737\n"
     ]
    },
    {
     "data": {
      "text/plain": [
       "<keras.callbacks.History at 0x1722037f0>"
      ]
     },
     "execution_count": 380,
     "metadata": {},
     "output_type": "execute_result"
    }
   ],
   "source": [
    "gan_model.fit(dataset, epochs=20)"
   ]
  },
  {
   "cell_type": "code",
   "execution_count": 381,
   "id": "9f65b7c6-399e-4f63-bdaa-0c3be5bfd8d4",
   "metadata": {},
   "outputs": [
    {
     "name": "stdout",
     "output_type": "stream",
     "text": [
      "2022-09-15 02:32:24.101357\n"
     ]
    }
   ],
   "source": [
    "print(datetime.now())"
   ]
  },
  {
   "cell_type": "markdown",
   "id": "8201b90e-aeb4-4db1-a102-66ffdfe7d488",
   "metadata": {
    "tags": []
   },
   "source": [
    "### Test model"
   ]
  },
  {
   "cell_type": "code",
   "execution_count": 382,
   "id": "57adb7b1-98cd-4d18-a4bf-4af7437ed7e7",
   "metadata": {},
   "outputs": [],
   "source": [
    "noise = gan_model.sample_random_noise(9)"
   ]
  },
  {
   "cell_type": "code",
   "execution_count": 383,
   "id": "47ee312a-4663-42df-b90f-f87181577e4b",
   "metadata": {},
   "outputs": [],
   "source": [
    "#image_noise = noise.numpy().reshape(9, 28, 28)\n",
    "# plot_mnist_data(image_noise)"
   ]
  },
  {
   "cell_type": "code",
   "execution_count": 384,
   "id": "7a196670-723e-4587-9d09-e56733b09698",
   "metadata": {},
   "outputs": [
    {
     "data": {
      "image/png": "[encoded data removed]",
      "text/plain": [
       "<Figure size 640x480 with 9 Axes>"
      ]
     },
     "metadata": {},
     "output_type": "display_data"
    }
   ],
   "source": [
    "gan_g_output = gan_model.generator(noise)\n",
    "gan_g_reshaped = gan_g_output.numpy()#.reshape(9, 28, 28)\n",
    "plot_mnist_data(gan_g_reshaped)"
   ]
  },
  {
   "cell_type": "code",
   "execution_count": 385,
   "id": "1eba4200-d5a7-46b9-894f-1d52a4d74060",
   "metadata": {},
   "outputs": [
    {
     "data": {
      "text/plain": [
       "<tf.Tensor: shape=(9, 1), dtype=float32, numpy=\n",
       "array([[0.60915357],\n",
       "       [0.43351775],\n",
       "       [0.43775463],\n",
       "       [0.265298  ],\n",
       "       [0.26028347],\n",
       "       [0.5656398 ],\n",
       "       [0.37103817],\n",
       "       [0.64274824],\n",
       "       [0.38933513]], dtype=float32)>"
      ]
     },
     "execution_count": 385,
     "metadata": {},
     "output_type": "execute_result"
    }
   ],
   "source": [
    "gan_model.discriminator(gan_g_reshaped)"
   ]
  },
  {
   "cell_type": "code",
   "execution_count": 386,
   "id": "3febb717-18f4-4933-98f9-8c0e054c8994",
   "metadata": {},
   "outputs": [
    {
     "data": {
      "text/plain": [
       "<tf.Tensor: shape=(9, 1), dtype=float32, numpy=\n",
       "array([[0.67144245],\n",
       "       [0.5077027 ],\n",
       "       [0.6165581 ],\n",
       "       [0.9206183 ],\n",
       "       [0.31056586],\n",
       "       [0.8072517 ],\n",
       "       [0.7723774 ],\n",
       "       [0.41536987],\n",
       "       [0.68740493]], dtype=float32)>"
      ]
     },
     "execution_count": 386,
     "metadata": {},
     "output_type": "execute_result"
    }
   ],
   "source": [
    "gan_model.discriminator(all_digits[0:9])"
   ]
  },
  {
   "cell_type": "code",
   "execution_count": null,
   "id": "bb538b8c-69cf-48d1-8a42-664fd7477c32",
   "metadata": {},
   "outputs": [],
   "source": []
  },
  {
   "cell_type": "code",
   "execution_count": null,
   "id": "cf917556-d20b-40e8-9c4c-73eb2951a674",
   "metadata": {},
   "outputs": [],
   "source": []
  }
 ],
 "metadata": {
  "kernelspec": {
   "display_name": "Python 3 (ipykernel)",
   "language": "python",
   "name": "python3"
  },
  "language_info": {
   "codemirror_mode": {
    "name": "ipython",
    "version": 3
   },
   "file_extension": ".py",
   "mimetype": "text/x-python",
   "name": "python",
   "nbconvert_exporter": "python",
   "pygments_lexer": "ipython3",
   "version": "3.9.10"
  }
 },
 "nbformat": 4,
 "nbformat_minor": 5
}
